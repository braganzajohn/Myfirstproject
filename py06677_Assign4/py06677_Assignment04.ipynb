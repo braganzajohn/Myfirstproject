{
 "cells": [
  {
   "cell_type": "code",
   "execution_count": 1,
   "metadata": {},
   "outputs": [
    {
     "name": "stdout",
     "output_type": "stream",
     "text": [
      "\n",
      " \n",
      "first_name : John\n",
      "last_name : Braganza\n",
      "age : 55\n",
      "city : Karachi\n",
      "\n",
      " \n",
      "first_name : John\n",
      "last_name : Braganza\n",
      "age : 55\n",
      "city : Karachi\n",
      "qualification : Graduate\n",
      "\n",
      " \n",
      "first_name : John\n",
      "last_name : Braganza\n",
      "age : 55\n",
      "city : Karachi\n",
      "qualification : MS Finance\n",
      "\n",
      " \n",
      "first_name : John\n",
      "last_name : Braganza\n",
      "age : 55\n",
      "city : Karachi\n"
     ]
    }
   ],
   "source": [
    "#Q1:\n",
    "#Use a dictionary to store information about a person you know. Store their first name, last name, age, and the city in which they live. You should have keys such as first_name, last_name, age, and city. Print each piece of information stored in your dictionary. Add a new key value pair about qualification then update the qualification value to high academic level then delete it.\n",
    "#\n",
    "\n",
    "academicDict = { \"first_name\" : \"John\" , \"last_name\" : \"Braganza\" , \"age\" : \"55\" , \"city\" : \"Karachi\" };\n",
    "# Display keys and values\n",
    "print(\"\\n \");\n",
    "for key, value in academicDict.items():\n",
    "    print( key + \" : \" + value);\n",
    "# Add Key qualification and value\n",
    "academicDict[ \"qualification\" ] = \"Graduate\"\n",
    "# Display keys and values\n",
    "print(\"\\n \");\n",
    "for key, value in academicDict.items():\n",
    "    print( key + \" : \" + value)\n",
    "# Update qualification\n",
    "academicDict[ \"qualification\" ] = \"MS Finance\";\n",
    "# Display keys and values\n",
    "print(\"\\n \");\n",
    "for key, value in academicDict.items():\n",
    "    print( key + \" : \" + value);\n",
    "# Delete qualification\n",
    "del academicDict[ \"qualification\" ];\n",
    "# Display keys and values\n",
    "print(\"\\n \");\n",
    "for key, value in academicDict.items():\n",
    "    print( key + \" : \" + value);\n",
    "\n"
   ]
  },
  {
   "cell_type": "code",
   "execution_count": 2,
   "metadata": {},
   "outputs": [
    {
     "name": "stdout",
     "output_type": "stream",
     "text": [
      "\n",
      "Karachi\n",
      "country : Pakistan\n",
      "population : 15 million\n",
      "fact : Sixth largest city in the world according to population\n",
      "\n",
      "NewYork\n",
      "country : USA\n",
      "population : 8.6 million\n",
      "fact : New York City is the largest city in the United States\n",
      "\n",
      "Tokyo\n",
      "country : Japan\n",
      "population : 36 million\n",
      "fact : Tokyo was formerly known as “Edo” in the 20th century\n"
     ]
    }
   ],
   "source": [
    "#Q2:\n",
    "#Make a dictionary called cities. Use the names of three cities as keys in your dictionary. Create a dictionary of information about each city and include the country that the city is in, its approximate population, and one fact about that city. The keys for each city’s dictionary should be something like country, population, and fact. Print the name of each city and all of the information you have stored about it.\n",
    "#\n",
    "\n",
    "cities={\n",
    "    \"Karachi\" : {\n",
    "        \"country\" : \"Pakistan\",\n",
    "        \"population\" : \"15 million\",\n",
    "        \"fact\" : \"Sixth largest city in the world according to population\"\n",
    "    },\n",
    "    \"NewYork\":{\n",
    "        \"country\" : \"USA\",\n",
    "        \"population\" : \"8.6 million\",\n",
    "        \"fact\" : \"New York City is the largest city in the United States\"\n",
    "    },\n",
    "\n",
    "    \"Tokyo\":{\n",
    "        \"country\":\"Japan\",\n",
    "        \"population\" : \"36 million\",\n",
    "        \"fact\" : \"Tokyo was formerly known as “Edo” in the 20th century\"\n",
    "    }\n",
    "}\n",
    "for key, value in cities.items():\n",
    "    print(\"\\n\" + key)\n",
    "    for city in value:\n",
    "        print(city + \" : \" + value[city])"
   ]
  },
  {
   "cell_type": "code",
   "execution_count": 3,
   "metadata": {},
   "outputs": [
    {
     "name": "stdout",
     "output_type": "stream",
     "text": [
      "Enter age : (0 to exit) 3\n",
      "The ticket is $10\n",
      "Enter age : (0 to exit) 0\n",
      "Thank You\n"
     ]
    }
   ],
   "source": [
    "#Q3:\n",
    "#A movie theater charges different ticket prices depending on a person’s age. If a person is under the age of 3, the ticket is free; if they are between 3 and 12, the ticket is $10; and if they are over age 12, the ticket is $15. Write a loop in which you ask users their age, and then tell them the cost of their movie ticket.\n",
    "#\n",
    "age = 1;\n",
    "while age != 0:\n",
    "    age = int(input(\"Enter age : (0 to exit) \"));\n",
    "    if age > 12:\n",
    "        print(\"The ticket is $15\");\n",
    "    elif age > 2:\n",
    "        print(\"The ticket is $10\");\n",
    "    elif age > 0:\n",
    "        print(\"The ticket is free\");\n",
    "    else :\n",
    "        print(\"Thank You\");\n"
   ]
  },
  {
   "cell_type": "code",
   "execution_count": 4,
   "metadata": {},
   "outputs": [
    {
     "name": "stdout",
     "output_type": "stream",
     "text": [
      "Enter title of book Alice in Wonderland\n",
      "One of my favorite books is Alice in Wonderland\n"
     ]
    }
   ],
   "source": [
    "#Q4:\n",
    "#Write a function called favorite_book() that accepts one parameter, title. The function should print a message, such as One of my favorite books is Alice in Wonderland. Call the function, making sure to include a book title as an argument in the function call.\n",
    "#\n",
    "\n",
    "def favorite_book(title):\n",
    "    print(\"One of my favorite books is \" + title);\n",
    "book_title = input(\"Enter title of book \");\n",
    "if(len(book_title)!=0):\n",
    "    favorite_book(book_title)\n",
    "else:\n",
    "    print(\"Please enter book title\")"
   ]
  },
  {
   "cell_type": "code",
   "execution_count": 5,
   "metadata": {},
   "outputs": [
    {
     "name": "stdout",
     "output_type": "stream",
     "text": [
      "29\n",
      "Guess a number between 1 and 30 (0 to quit) : 25\n",
      "\n",
      " Guess again - Number is Higher \n",
      "\n",
      "Guess a number between 1 and 30 (0 to quit) : 29\n",
      "\n",
      " Congratulations! Your guess is correct \n"
     ]
    }
   ],
   "source": [
    "#Q5:\n",
    "#Write a program which randomly generate a number between 1 to 30 and ask the user in input field to guess the correct number. Give three chances to user guess the number and also give hint to user if hidden number is greater or smaller than the number he given to input field.\n",
    "#\n",
    "\n",
    "\n",
    "import random\n",
    "rndNumber = int(random.randrange(1,30));\n",
    "counter = 0;\n",
    "ans = 1;\n",
    "print(rndNumber);\n",
    "while ans != 0 and counter < 3:\n",
    "    ans = int(input(\"Guess a number between 1 and 30 (0 to quit) : \"));\n",
    "    counter = counter + 1;\n",
    "    if ans == 0:\n",
    "        print(\"\\n Thank You\");\n",
    "        counter = 4;\n",
    "    elif ans < 1 or ans > 30 :\n",
    "        print(\"\\n Incorrect range entered - start again \");\n",
    "        counter = 4;\n",
    "    elif rndNumber == ans:\n",
    "        print(\"\\n Congratulations! Your guess is correct \");\n",
    "        counter = 4;        \n",
    "    elif rndNumber < ans:\n",
    "        print(\"\\n Guess again - Number is lesser\");\n",
    "    elif rndNumber > ans:\n",
    "        print(\"\\n Guess again - Number is Higher \\n\");\n",
    "    else:\n",
    "        print(\"\\n Better luck next time \");\n",
    "        counter = 4;"
   ]
  },
  {
   "cell_type": "code",
   "execution_count": null,
   "metadata": {},
   "outputs": [],
   "source": []
  }
 ],
 "metadata": {
  "kernelspec": {
   "display_name": "Python 3",
   "language": "python",
   "name": "python3"
  },
  "language_info": {
   "codemirror_mode": {
    "name": "ipython",
    "version": 3
   },
   "file_extension": ".py",
   "mimetype": "text/x-python",
   "name": "python",
   "nbconvert_exporter": "python",
   "pygments_lexer": "ipython3",
   "version": "3.7.4"
  }
 },
 "nbformat": 4,
 "nbformat_minor": 2
}
