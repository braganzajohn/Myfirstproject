{
 "cells": [
  {
   "cell_type": "code",
   "execution_count": 2,
   "metadata": {},
   "outputs": [
    {
     "name": "stdout",
     "output_type": "stream",
     "text": [
      "Calculator \n",
      "Enter first number value : 80\n",
      "Enter second number value : 60\n",
      "Please enter the operator + - * / ** : +\n",
      "Answer :  140\n"
     ]
    }
   ],
   "source": [
    "# Code 1 Make a calculator using Python with addition , subtraction , multiplication , division and power.\n",
    "\n",
    "print(\"Calculator \");\n",
    "value1 = int(input(\"Enter first number value : \"));\n",
    "value2 = int(input(\"Enter second number value : \"));\n",
    "operator = input(\"Please enter the operator + - * / ** : \");\n",
    "if operator == \"+\":\n",
    "    val = value1 + value2;\n",
    "    print(\"Answer : \",val);\n",
    "elif operator == \"-\":\n",
    "    val = value1 - value2;\n",
    "    print(\"Answer : \",val);\n",
    "elif operator == \"*\":\n",
    "    val = value1 * value2;\n",
    "    print(\"Answer : \",val);\n",
    "elif operator == \"/\":\n",
    "    val = value1 / value2;\n",
    "    print(\"Answer : \",val);\n",
    "elif operator == \"**\":\n",
    "    val = value1 ** value2;\n",
    "    print(\"Answer : \",val);\n",
    "else:\n",
    "    print(\"Please enter correct operator \")"
   ]
  },
  {
   "cell_type": "code",
   "execution_count": 3,
   "metadata": {},
   "outputs": [
    {
     "name": "stdout",
     "output_type": "stream",
     "text": [
      "[3, 5]\n"
     ]
    }
   ],
   "source": [
    "# Code 2 Write a program to check if there is any numeric value in list using for loop\n",
    "\n",
    "a = [\"John\", \"Ata\", \"Riba\", 3, 5, \"Leher\"];\n",
    "newList = [];\n",
    "for ite in a:\n",
    "    if str(ite).isnumeric():\n",
    "        newList.append(ite);\n",
    "print(newList);\n"
   ]
  },
  {
   "cell_type": "code",
   "execution_count": 4,
   "metadata": {},
   "outputs": [
    {
     "name": "stdout",
     "output_type": "stream",
     "text": [
      "{1: 9, 2: 22, 3: 33, 4: 44}\n"
     ]
    }
   ],
   "source": [
    "# Code 3 Write a Python script to add a key to a dictionary\n",
    "\n",
    "dict = {1: 9, 2: 22, 3: 33};\n",
    "dict[4] = 44;\n",
    "print(dict);\n"
   ]
  },
  {
   "cell_type": "code",
   "execution_count": 5,
   "metadata": {},
   "outputs": [
    {
     "name": "stdout",
     "output_type": "stream",
     "text": [
      "Maths\n",
      "Chemistry\n",
      "Physics\n",
      "248\n"
     ]
    }
   ],
   "source": [
    "# Code 4 Write a Python program to sum all the numeric items in a dictionary \n",
    "\n",
    "dict = {\"Maths\" : 90, \"Chemistry\" : 70, \"Physics\" : 88};\n",
    "addItem = 0;\n",
    "for ite in dict:\n",
    "    if str(dict[ite]).isnumeric():\n",
    "        print(ite);\n",
    "        addItem = addItem + dict[ite];\n",
    "print(addItem);"
   ]
  },
  {
   "cell_type": "code",
   "execution_count": 6,
   "metadata": {},
   "outputs": [
    {
     "name": "stdout",
     "output_type": "stream",
     "text": [
      "[101, 3, 3, 120, 133, 3, 3, 240, 240, 24, 36, 240, 240, 34, 34, 22, 65, 34, 34]\n"
     ]
    }
   ],
   "source": [
    "#code 5 Python program to print duplicates from a list of integers \n",
    "\n",
    "list1 = [101, 3, 120, 133, 3, 240, 24, 36, 240, 34, 22, 65, 34] \n",
    "dupList = [];\n",
    "for ite in list1: \n",
    "    for ite2 in list1:\n",
    "        if ite == ite2:\n",
    "            dupList.append(ite);\n",
    "print(dupList);  "
   ]
  },
  {
   "cell_type": "code",
   "execution_count": 7,
   "metadata": {},
   "outputs": [
    {
     "name": "stdout",
     "output_type": "stream",
     "text": [
      "Enter key to check : 2\n",
      "Key is not present 1\n",
      "Key is present 2\n",
      "Key is not present 3\n"
     ]
    }
   ],
   "source": [
    "# Code 6 Write a Python script to check if a given key already exists in a dictionary\n",
    "dict = {1: 11, 2: 22, 3: 33};\n",
    "iteKey = input(\"Enter key to check : \");\n",
    "for ite in dict:\n",
    "    if str(ite) == iteKey:      \n",
    "        print(\"Key is present\", ite);\n",
    "    else:\n",
    "        print(\"Key is not present\", ite);\n"
   ]
  },
  {
   "cell_type": "code",
   "execution_count": null,
   "metadata": {},
   "outputs": [],
   "source": []
  }
 ],
 "metadata": {
  "kernelspec": {
   "display_name": "Python 3",
   "language": "python",
   "name": "python3"
  },
  "language_info": {
   "codemirror_mode": {
    "name": "ipython",
    "version": 3
   },
   "file_extension": ".py",
   "mimetype": "text/x-python",
   "name": "python",
   "nbconvert_exporter": "python",
   "pygments_lexer": "ipython3",
   "version": "3.7.4"
  }
 },
 "nbformat": 4,
 "nbformat_minor": 2
}
