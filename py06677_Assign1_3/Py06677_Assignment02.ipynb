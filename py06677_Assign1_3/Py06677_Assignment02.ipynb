{
 "cells": [
  {
   "cell_type": "code",
   "execution_count": 1,
   "metadata": {},
   "outputs": [
    {
     "name": "stdout",
     "output_type": "stream",
     "text": [
      "Subject Marks : \n",
      "Enter marks for Subject 1  66\n",
      "Enter marks for Subject 2  77\n",
      "Enter marks for Subject 3  88\n",
      "Enter marks for Subject 4  99\n",
      "Enter marks for Subject 5  55\n",
      "Total marks obtained  385\n",
      "Average marks obtained  77.0\n",
      "Grade B\n"
     ]
    }
   ],
   "source": [
    "# Code 1\n",
    "# Write a program which takes 5 inputs from user for different subject’s marks, total it and generate mark sheet using grades ?\n",
    "\n",
    "print(\"Subject Marks : \");\n",
    "sub1 = int(input(\"Enter marks for Subject 1  \"));\n",
    "sub2 = int(input(\"Enter marks for Subject 2  \"));\n",
    "sub3 = int(input(\"Enter marks for Subject 3  \"));\n",
    "sub4 = int(input(\"Enter marks for Subject 4  \"));\n",
    "sub5 = int(input(\"Enter marks for Subject 5  \"));\n",
    "subTot = sub1 + sub2 + sub3 + sub4 + sub5;\n",
    "subAvg = subTot/5;\n",
    "print(\"Total marks obtained \",str(subTot));\n",
    "print(\"Average marks obtained \",str(subAvg));\n",
    "if subAvg >= 80:\n",
    "    print(\"Grade Excellent A\");\n",
    "elif subAvg >= 70:\n",
    "    print(\"Grade B\");\n",
    "elif (subAvg >= 60):\n",
    "    print(\"Grade C\");\n",
    "elif (subAvg >= 50):\n",
    "    print(\"Grade D\");\n",
    "elif (subAvg < 60):\n",
    "    print(\"Grade Fail F\");\n",
    "else:\n",
    "    print(\"Incorrect input\");"
   ]
  },
  {
   "cell_type": "code",
   "execution_count": 2,
   "metadata": {},
   "outputs": [
    {
     "name": "stdout",
     "output_type": "stream",
     "text": [
      "Enter a number: 8\n",
      "Even\n"
     ]
    }
   ],
   "source": [
    "# Code 2\n",
    "# Write a program which take input from user and identify that the given number is even or odd?\n",
    "guessNum = int(input(\"Enter a number: \"))\n",
    "if (guessNum % 2) == 0:\n",
    "   print(\"Even\")\n",
    "else:\n",
    "   print(\"Odd \")\n"
   ]
  },
  {
   "cell_type": "code",
   "execution_count": 3,
   "metadata": {},
   "outputs": [
    {
     "name": "stdout",
     "output_type": "stream",
     "text": [
      "Length of the list is:  4\n"
     ]
    }
   ],
   "source": [
    "# Code 3 Write a program which print the length of the list?\n",
    "stuList = [\"John\", \"Adnan\", \"Moona\", \"Gul\"];  \n",
    "print(\"Length of the list is: \", len(stuList));"
   ]
  },
  {
   "cell_type": "code",
   "execution_count": 4,
   "metadata": {},
   "outputs": [
    {
     "name": "stdout",
     "output_type": "stream",
     "text": [
      "Sum of elements:  304\n"
     ]
    }
   ],
   "source": [
    "# Code 4 Write a Python program to sum all the numeric items in a list?\n",
    "numList = [1, 12, 155, 3, 77, 56];  \n",
    "numTot = 0;\n",
    "for ite in numList:\n",
    "    numTot = numTot + ite;\n",
    "print(\"Sum of elements: \",numTot);"
   ]
  },
  {
   "cell_type": "code",
   "execution_count": 5,
   "metadata": {},
   "outputs": [
    {
     "name": "stdout",
     "output_type": "stream",
     "text": [
      "Largest element :  155\n"
     ]
    }
   ],
   "source": [
    "# Code 5 Write a Python program to get the largest number from a numeric list\n",
    "numList = [1, 12, 155, 3, 77, 56];  \n",
    "numList.sort();\n",
    "print(\"Largest element : \", numList[-1]);"
   ]
  },
  {
   "cell_type": "code",
   "execution_count": 6,
   "metadata": {},
   "outputs": [
    {
     "name": "stdout",
     "output_type": "stream",
     "text": [
      "[1, 1, 2, 3]\n"
     ]
    }
   ],
   "source": [
    "#code 6 write a program that prints out all the elements of the list that are less than 5.\n",
    "\n",
    "a = [1, 1, 2, 3, 5, 8, 13, 21, 34, 55, 89];\n",
    "newList = [];\n",
    "for ite in a:\n",
    "    if ite < 5:\n",
    "        newList.append(ite);\n",
    "print(newList);\n"
   ]
  },
  {
   "cell_type": "code",
   "execution_count": null,
   "metadata": {},
   "outputs": [],
   "source": []
  }
 ],
 "metadata": {
  "kernelspec": {
   "display_name": "Python 3",
   "language": "python",
   "name": "python3"
  },
  "language_info": {
   "codemirror_mode": {
    "name": "ipython",
    "version": 3
   },
   "file_extension": ".py",
   "mimetype": "text/x-python",
   "name": "python",
   "nbconvert_exporter": "python",
   "pygments_lexer": "ipython3",
   "version": "3.7.4"
  }
 },
 "nbformat": 4,
 "nbformat_minor": 2
}
