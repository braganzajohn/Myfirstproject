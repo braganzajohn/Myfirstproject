{
 "cells": [
  {
   "cell_type": "code",
   "execution_count": 1,
   "metadata": {},
   "outputs": [
    {
     "name": "stdout",
     "output_type": "stream",
     "text": [
      "Factorial of  5 is 120\n"
     ]
    }
   ],
   "source": [
    "# 1. Write a Python function to calculate the factorial of a number (a non-negative integer). The function accepts the number as an argument.\n",
    "\n",
    "numb = 5\n",
    "\n",
    "def factorOfNumber(facto):\n",
    "    for i in range(1,numb):\n",
    "        facto = facto * i;\n",
    "    print(\"Factorial of \", numb, \"is\", facto);\n",
    "\n",
    "factorOfNumber(numb);\n"
   ]
  },
  {
   "cell_type": "code",
   "execution_count": 2,
   "metadata": {},
   "outputs": [
    {
     "name": "stdout",
     "output_type": "stream",
     "text": [
      "The number of occurances is  7\n"
     ]
    }
   ],
   "source": [
    "# 2. Write a Python function that accepts a string and calculate the number of upper case letters and lower case letters.\n",
    "\n",
    "str = \"The Quick Brown Fox jumped Over The Moon\";\n",
    "\n",
    "def upCaseCount(string):\n",
    "    counter=0;\n",
    "    for i in string:\n",
    "        if i.isupper():\n",
    "            counter = counter + 1;\n",
    "    print(\"The number of occurances is \",counter);\n",
    "\n",
    "upCaseCount(str);"
   ]
  },
  {
   "cell_type": "code",
   "execution_count": 3,
   "metadata": {},
   "outputs": [
    {
     "name": "stdout",
     "output_type": "stream",
     "text": [
      "The normal list is :   [1, 5, 4, 2, 6, 86, 12, 11, 25, 90, 22, 33, 44, 55, 66, 77]\n",
      "Even number in list are :  [4, 2, 6, 86, 12, 90, 22, 44, 66]\n"
     ]
    }
   ],
   "source": [
    "# 3. Write a Python function to print the even numbers from a given list.\n",
    "\n",
    "list1 = [1,5,4,2,6,86,12,11,25,90,22,33,44,55,66,77];\n",
    "\n",
    "def printEvenNum(lis):\n",
    "    list2 = [];\n",
    "    for i in lis:\n",
    "        if (i % 2) == 0:\n",
    "            list2.append(i);\n",
    "    print(\"Even number in list are : \",list2);\n",
    "print(\"The normal list is :  \", list1);\n",
    "printEvenNum(list1);\n"
   ]
  },
  {
   "cell_type": "code",
   "execution_count": 4,
   "metadata": {},
   "outputs": [
    {
     "name": "stdout",
     "output_type": "stream",
     "text": [
      "mad dam\n",
      "mad dam\n",
      "The word or sentence is a palindrome  mad dam mad dam\n"
     ]
    }
   ],
   "source": [
    "# 4. Write a Python function that checks whether a passed string is palindrome or not.\n",
    "\n",
    "strin = \"mad dam\";\n",
    "\n",
    "def palindrome(str1):\n",
    "\n",
    "    str2 = str1[::-1];\n",
    "    \n",
    "    print(str1);\n",
    "    print(str2);\n",
    "    if str1 == str2:\n",
    "        print(\"The word or sentence is a palindrome \",str1,str2);\n",
    "    else:\n",
    "        print(\"The word or sentence is not a palindrome\",str1,str2);\n",
    "        \n",
    "palindrome(strin);\n"
   ]
  },
  {
   "cell_type": "code",
   "execution_count": 5,
   "metadata": {},
   "outputs": [
    {
     "name": "stdout",
     "output_type": "stream",
     "text": [
      "Enter a number greater than 1 : 41\n",
      "41 is a prime number\n"
     ]
    }
   ],
   "source": [
    "# 5.Write a Python function that takes a number as a parameter and check the number is prime or not.\n",
    "\n",
    "def inputNum():\n",
    "    inpNum = int(input(\"Enter a number greater than 1 : \"))    \n",
    "    if inpNum < 0:\n",
    "       print(\"Sorry, no negative numbers\")\n",
    "    elif inpNum == 0 or inpNum == 1:\n",
    "       print(\"Enter a number greater than 1 \")\n",
    "    else:\n",
    "       return inpNum;\n",
    "\n",
    "def checkPrime(num):\n",
    "    for i in range(2, num):\n",
    "        if (num % i) == 0:\n",
    "            print(num, \"is not a prime number\");\n",
    "            break;\n",
    "    else:\n",
    "        print(num, \"is a prime number\");\n",
    "        \n",
    "entNum = inputNum(); \n",
    "checkPrime(entNum);\n"
   ]
  },
  {
   "cell_type": "code",
   "execution_count": 6,
   "metadata": {},
   "outputs": [
    {
     "name": "stdout",
     "output_type": "stream",
     "text": [
      "('Jeans', 'TShirt', 'Vest')\n"
     ]
    }
   ],
   "source": [
    "# 6. Write a function which accepts the multiple arguments of user shopping list and print all the items which user bought from market.\n",
    "\n",
    "\n",
    "def shopFunction(*items):\n",
    "       print(items);\n",
    "\n",
    "\n",
    "\n",
    "shopFunction(\"Jeans\", \"TShirt\", \"Vest\");\n",
    "\n"
   ]
  },
  {
   "cell_type": "code",
   "execution_count": null,
   "metadata": {},
   "outputs": [],
   "source": []
  }
 ],
 "metadata": {
  "kernelspec": {
   "display_name": "Python 3",
   "language": "python",
   "name": "python3"
  },
  "language_info": {
   "codemirror_mode": {
    "name": "ipython",
    "version": 3
   },
   "file_extension": ".py",
   "mimetype": "text/x-python",
   "name": "python",
   "nbconvert_exporter": "python",
   "pygments_lexer": "ipython3",
   "version": "3.7.4"
  }
 },
 "nbformat": 4,
 "nbformat_minor": 2
}
